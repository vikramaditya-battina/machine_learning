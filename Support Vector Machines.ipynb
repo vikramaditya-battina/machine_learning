{
 "cells": [
  {
   "cell_type": "markdown",
   "metadata": {},
   "source": [
    "<h5>SVM is a versatile tool for performing linear or nonlinear classification, regression, and even outlier detection.</h5>\n",
    "<h5>SVMs are particular well suited for classification of complex but small or medium sized datasets</h5>"
   ]
  },
  {
   "cell_type": "markdown",
   "metadata": {},
   "source": [
    "<h3> Linear SVM Classification </h3>"
   ]
  },
  {
   "cell_type": "markdown",
   "metadata": {},
   "source": [
    "<ol>\n",
    "  <li>Large Margin Classification</li>\n",
    "  <li>Margins are full supported by, instances located on the margin, these are called support vector, so if you add new instances after margin, it won't effect margins because margins are only based on support vectors</li>\n",
    "</ol>"
   ]
  },
  {
   "cell_type": "markdown",
   "metadata": {},
   "source": [
    "<h5>SVM is sensitive to feature scaling, so please do feature scaling</h5>"
   ]
  },
  {
   "cell_type": "code",
   "execution_count": null,
   "metadata": {},
   "outputs": [],
   "source": []
  },
  {
   "cell_type": "markdown",
   "metadata": {},
   "source": [
    "<h3>Soft Margin Classification</h3>"
   ]
  },
  {
   "cell_type": "markdown",
   "metadata": {},
   "source": [
    "<ol>\n",
    "<li>The objective is to\n",
    "find a good balance between keeping the street <b>as large as possible and limiting the\n",
    "margin violations</b> (i.e., instances that end up in the middle of the street or even on the\n",
    "wrong side). This is called <b>soft margin classification</b>.\n",
    "</li>\n",
    "<li>\n",
    "    Interesting is <b>C</b> hyper param, smaller <b>C</b> leads to Wider Margin and More Margin Violations\n",
    "</li>\n",
    "<li>\n",
    "    Higher the <b>C</b> values, Narrow margin, Less Margin Violations\n",
    "</li>\n",
    "<li>\n",
    "    If your SVM model is overfitting, then try to regularizing it by reducing <b>C</b>. \n",
    "</li>\n",
    "</ol>"
   ]
  },
  {
   "cell_type": "markdown",
   "metadata": {},
   "source": [
    "import numpy as np\n",
    "from sklearn.pipeline import Pipeline\n",
    "from sklearn.preprocessing import StandardScaler\n",
    "from sklearn.datasets import load_iris\n",
    "from sklearn.svm import LinearSVC\n",
    "iris = load_iris()\n",
    "iris"
   ]
  },
  {
   "cell_type": "code",
   "execution_count": 12,
   "metadata": {},
   "outputs": [
    {
     "name": "stdout",
     "output_type": "stream",
     "text": [
      "['sepal length (cm)', 'sepal width (cm)', 'petal length (cm)', 'petal width (cm)']\n"
     ]
    }
   ],
   "source": [
    "print(iris['feature_names'])\n",
    "#extracting petal length and petal width\n",
    "X_train, y_train = iris['data'][:,[2,3]], iris['target']"
   ]
  },
  {
   "cell_type": "code",
   "execution_count": 14,
   "metadata": {},
   "outputs": [
    {
     "data": {
      "text/plain": [
       "array(['setosa', 'versicolor', 'virginica'], dtype='<U10')"
      ]
     },
     "execution_count": 14,
     "metadata": {},
     "output_type": "execute_result"
    }
   ],
   "source": [
    "iris['target_names']"
   ]
  },
  {
   "cell_type": "code",
   "execution_count": 17,
   "metadata": {},
   "outputs": [],
   "source": [
    "#Here we are finding whether Iris is Virginica or not\n",
    "y_train_vir = (y_train == 2)"
   ]
  },
  {
   "cell_type": "code",
   "execution_count": 23,
   "metadata": {},
   "outputs": [
    {
     "data": {
      "text/plain": [
       "Pipeline(memory=None,\n",
       "     steps=[('scaler', StandardScaler(copy=True, with_mean=True, with_std=True)), ('svm_classifier', LinearSVC(C=0.1, class_weight=None, dual=True, fit_intercept=True,\n",
       "     intercept_scaling=1, loss='hinge', max_iter=1000, multi_class='ovr',\n",
       "     penalty='l2', random_state=None, tol=0.0001, verbose=0))])"
      ]
     },
     "execution_count": 23,
     "metadata": {},
     "output_type": "execute_result"
    }
   ],
   "source": [
    "svm_clf = Pipeline([\n",
    "    ('scaler', StandardScaler()),\n",
    "    ('svm_classifier', LinearSVC(C=0.1, loss='hinge')),\n",
    "])\n",
    "svm_clf.fit(X_train, y_train_vir)"
   ]
  },
  {
   "cell_type": "code",
   "execution_count": 29,
   "metadata": {},
   "outputs": [
    {
     "name": "stdout",
     "output_type": "stream",
     "text": [
      "[ True]\n",
      "True\n",
      "Awesome both are same...\n"
     ]
    }
   ],
   "source": [
    "print(svm_clf.predict(X_train[[100],:]))\n",
    "print(y_train_vir[100])\n",
    "print(\"Awesome both are same...\")"
   ]
  },
  {
   "cell_type": "markdown",
   "metadata": {},
   "source": [
    "<h5> Unlike Logistic Regression Classifier, SVM Classifiers do not output probabilities</h5>"
   ]
  },
  {
   "cell_type": "markdown",
   "metadata": {},
   "source": [
    "<b>SVC(kernel='linear', C=1)</b> is same as <b>LinearSVC(C=1)</b>, but SVC is much slower with large datasets"
   ]
  },
  {
   "cell_type": "markdown",
   "metadata": {},
   "source": [
    "The LinearSVC class <b>regularizes the bias term</b>, so you should center\n",
    "the training set first by subtracting its mean. This is automatic if\n",
    "you scale the data using the <b>StandardScaler</b>. Moreover, make sure\n",
    "you set the <b>loss hyperparameter to \"hinge\"</b>, as it is not the default\n",
    "value. Finally, for better performance you should set the dual\n",
    "hyperparameter to False, unless there are more features than\n",
    "training instances"
   ]
  },
  {
   "cell_type": "code",
   "execution_count": null,
   "metadata": {},
   "outputs": [],
   "source": []
  },
  {
   "cell_type": "markdown",
   "metadata": {},
   "source": [
    "<h3>Nonlinear SVM Classification</h3>"
   ]
  },
  {
   "cell_type": "markdown",
   "metadata": {},
   "source": [
    "For some kind of DataSets after adding Polynomial Features, data might be linearly seperable"
   ]
  },
  {
   "cell_type": "code",
   "execution_count": 36,
   "metadata": {},
   "outputs": [],
   "source": [
    "from sklearn.datasets import make_moons\n",
    "from sklearn.pipeline import Pipeline\n",
    "from sklearn.preprocessing import PolynomialFeatures"
   ]
  },
  {
   "cell_type": "code",
   "execution_count": 38,
   "metadata": {},
   "outputs": [],
   "source": [
    "X, y = make_moons()"
   ]
  },
  {
   "cell_type": "code",
   "execution_count": 44,
   "metadata": {},
   "outputs": [
    {
     "data": {
      "image/png": "[encoded data removed]",
      "text/plain": [
       "<Figure size 432x288 with 2 Axes>"
      ]
     },
     "metadata": {},
     "output_type": "display_data"
    }
   ],
   "source": [
    "import matplotlib.pyplot as plt\n",
    "plt.figure()\n",
    "plt.scatter(X[:,0], X[:,1],c=y)\n",
    "plt.colorbar()\n",
    "plt.show()"
   ]
  },
  {
   "cell_type": "code",
   "execution_count": null,
   "metadata": {},
   "outputs": [],
   "source": [
    "#from above it is clearly non linearly seperable data,"
   ]
  },
  {
   "cell_type": "code",
   "execution_count": 51,
   "metadata": {},
   "outputs": [
    {
     "name": "stdout",
     "output_type": "stream",
     "text": [
      "[0.6 0.8 0.9 0.7 1.  1.  1.  0.9 0.9 0.9]\n",
      "0.8700000000000001\n"
     ]
    }
   ],
   "source": [
    "#First Try Linear Classfication\n",
    "ln_svc_clf = Pipeline([\n",
    "    ('scaler',StandardScaler()),\n",
    "    ('lineaSVC', LinearSVC(C=10, loss='hinge'))\n",
    "])\n",
    "from sklearn.model_selection import cross_val_score\n",
    "scores=cross_val_score(ln_svc_clf, X, y, cv = 10)\n",
    "print(scores)\n",
    "print(np.mean(scores))\n",
    "# So we got 80% accuracy, lets try will Polyomial Features"
   ]
  },
  {
   "cell_type": "code",
   "execution_count": 53,
   "metadata": {},
   "outputs": [
    {
     "name": "stdout",
     "output_type": "stream",
     "text": [
      "[1. 1. 1. 1. 1. 1. 1. 1. 1. 1.]\n",
      "1.0\n"
     ]
    }
   ],
   "source": [
    "poly_svc_clf = Pipeline([\n",
    "    ('polynomial',PolynomialFeatures(degree=3)),\n",
    "    ('scaler',StandardScaler()),\n",
    "    ('linearSVC',LinearSVC(C=10,loss='hinge'))\n",
    "])\n",
    "scores = cross_val_score(poly_svc_clf, X, y, cv=10)\n",
    "print(scores)\n",
    "print(np.mean(scores))\n",
    "#See We got 100% Accuracy\n",
    "#Beautiful"
   ]
  },
  {
   "cell_type": "code",
   "execution_count": null,
   "metadata": {},
   "outputs": [],
   "source": []
  }
 ],
 "metadata": {
  "kernelspec": {
   "display_name": "Python 3",
   "language": "python",
   "name": "python3"
  },
  "language_info": {
   "codemirror_mode": {
    "name": "ipython",
    "version": 3
   },
   "file_extension": ".py",
   "mimetype": "text/x-python",
   "name": "python",
   "nbconvert_exporter": "python",
   "pygments_lexer": "ipython3",
   "version": "3.5.5"
  }
 },
 "nbformat": 4,
 "nbformat_minor": 2
}
