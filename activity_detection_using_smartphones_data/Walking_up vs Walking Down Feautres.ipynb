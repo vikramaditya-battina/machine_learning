{
 "cells": [
  {
   "cell_type": "code",
   "execution_count": 3,
   "metadata": {},
   "outputs": [],
   "source": [
    "import pandas as pd\n",
    "import numpy as np\n",
    "from sklearn.utils import shuffle"
   ]
  },
  {
   "cell_type": "code",
   "execution_count": 4,
   "metadata": {},
   "outputs": [],
   "source": [
    "cols = pd.read_table('./UCI HAR Dataset/UCI HAR Dataset/features.txt', sep=' ', header=None)\n",
    "HAR_Y_train = pd.read_table('./UCI HAR Dataset/UCI HAR Dataset/train/Y_train.txt', sep=' ', header=None, skipinitialspace=True)\n",
    "HAR_X_train = pd.read_table('./UCI HAR Dataset/UCI HAR Dataset/train/X_train.txt', sep=' ', header=None, skipinitialspace=True)\n",
    "HAR_X_train.columns = cols.loc[:,1]\n",
    "HAR_Y_train = HAR_Y_train.values.reshape(HAR_Y_train.shape[0],)\n",
    "\n",
    "HAR_Y_test = pd.read_table('./UCI HAR Dataset/UCI HAR Dataset/test/Y_test.txt', sep=' ', header=None, skipinitialspace=True)\n",
    "HAR_X_test = pd.read_table('./UCI HAR Dataset/UCI HAR Dataset/test/X_test.txt', sep=' ', header=None, skipinitialspace=True)\n",
    "HAR_X_test.columns = cols.loc[:,1]\n",
    "HAR_Y_test = HAR_Y_test.values.reshape(HAR_Y_test.shape[0],)\n",
    "\n",
    "HAR_X_train, HAR_Y_train = shuffle(HAR_X_train, HAR_Y_train, random_state=0)"
   ]
  },
  {
   "cell_type": "code",
   "execution_count": 30,
   "metadata": {},
   "outputs": [],
   "source": [
    "w_up_index = np.argwhere(HAR_Y_train==2)\n",
    "w_down_index = np.argwhere(HAR_Y_train==3)\n",
    "indexes = np.vstack((w_down_index, w_up_index))[:,0]"
   ]
  },
  {
   "cell_type": "code",
   "execution_count": 33,
   "metadata": {},
   "outputs": [],
   "source": [
    "X_train = HAR_X_train.iloc[indexes,:]\n",
    "y_train = HAR_Y_train[indexes]"
   ]
  },
  {
   "cell_type": "code",
   "execution_count": 36,
   "metadata": {},
   "outputs": [],
   "source": [
    "w_up_index = np.argwhere(HAR_Y_test==2)\n",
    "w_down_index = np.argwhere(HAR_Y_test==3)\n",
    "indexes = np.vstack((w_down_index, w_up_index))[:,0]"
   ]
  },
  {
   "cell_type": "code",
   "execution_count": 37,
   "metadata": {},
   "outputs": [],
   "source": [
    "X_test = HAR_X_test.iloc[indexes,:]\n",
    "y_test = HAR_Y_test[indexes]"
   ]
  },
  {
   "cell_type": "code",
   "execution_count": null,
   "metadata": {},
   "outputs": [],
   "source": []
  },
  {
   "cell_type": "code",
   "execution_count": null,
   "metadata": {},
   "outputs": [],
   "source": []
  },
  {
   "cell_type": "code",
   "execution_count": null,
   "metadata": {},
   "outputs": [],
   "source": []
  },
  {
   "cell_type": "code",
   "execution_count": null,
   "metadata": {},
   "outputs": [],
   "source": []
  },
  {
   "cell_type": "code",
   "execution_count": 39,
   "metadata": {},
   "outputs": [
    {
     "data": {
      "text/plain": [
       "array([ 0.98253275,  0.96652111,  0.98686131])"
      ]
     },
     "execution_count": 39,
     "metadata": {},
     "output_type": "execute_result"
    }
   ],
   "source": [
    "from sklearn.ensemble import RandomForestClassifier\n",
    "rndm_clf = RandomForestClassifier()\n",
    "from sklearn.model_selection import cross_val_score\n",
    "cross_val_score(rndm_clf, X_train, y_train)"
   ]
  },
  {
   "cell_type": "code",
   "execution_count": 40,
   "metadata": {},
   "outputs": [
    {
     "data": {
      "text/plain": [
       "RandomForestClassifier(bootstrap=True, class_weight=None, criterion='gini',\n",
       "            max_depth=None, max_features='auto', max_leaf_nodes=None,\n",
       "            min_impurity_decrease=0.0, min_impurity_split=None,\n",
       "            min_samples_leaf=1, min_samples_split=2,\n",
       "            min_weight_fraction_leaf=0.0, n_estimators=10, n_jobs=1,\n",
       "            oob_score=False, random_state=None, verbose=0,\n",
       "            warm_start=False)"
      ]
     },
     "execution_count": 40,
     "metadata": {},
     "output_type": "execute_result"
    }
   ],
   "source": [
    "rndm_clf.fit(X_train, y_train)"
   ]
  },
  {
   "cell_type": "code",
   "execution_count": null,
   "metadata": {},
   "outputs": [],
   "source": []
  },
  {
   "cell_type": "code",
   "execution_count": 41,
   "metadata": {},
   "outputs": [
    {
     "data": {
      "text/plain": [
       "0.9135802469135802"
      ]
     },
     "execution_count": 41,
     "metadata": {},
     "output_type": "execute_result"
    }
   ],
   "source": [
    "y_predict = rndm_clf.predict(X_test)\n",
    "from sklearn.metrics import accuracy_score\n",
    "accuracy_score(y_predict, y_test)"
   ]
  },
  {
   "cell_type": "code",
   "execution_count": 44,
   "metadata": {},
   "outputs": [
    {
     "data": {
      "text/plain": [
       "[(9.1093351687367772, 'fBodyAccMag-sma()'),\n",
       " (6.7461214824888485, 'fBodyAccMag-mean()'),\n",
       " (6.0282123191934422, 'fBodyAcc-mad()-X'),\n",
       " (5.407106394361973, 'tBodyAccJerkMag-mad()'),\n",
       " (5.2580796139741617, 'tGravityAcc-arCoeff()-Z,3'),\n",
       " (5.2178513184623814, 'tBodyAccJerkMag-std()'),\n",
       " (5.1653500730995576, 'tGravityAcc-arCoeff()-Z,1'),\n",
       " (4.9441580199073645, 'fBodyAccMag-entropy()'),\n",
       " (4.8551734859899174, 'fBodyAcc-energy()-X'),\n",
       " (3.6708780826118432, 'tGravityAccMag-energy()')]"
      ]
     },
     "execution_count": 44,
     "metadata": {},
     "output_type": "execute_result"
    }
   ],
   "source": [
    "importance = np.array(rndm_clf.feature_importances_) * 100\n",
    "features = HAR_X_test.columns\n",
    "sorted(zip(importance, features), key=lambda x: x[0], reverse=True)[0:10]"
   ]
  },
  {
   "cell_type": "code",
   "execution_count": 22,
   "metadata": {},
   "outputs": [],
   "source": [
    "z = list(zip([1,2,3],[100,20,1000]))"
   ]
  },
  {
   "cell_type": "code",
   "execution_count": 24,
   "metadata": {},
   "outputs": [
    {
     "data": {
      "text/plain": [
       "[(3, 1000), (2, 20), (1, 100)]"
      ]
     },
     "execution_count": 24,
     "metadata": {},
     "output_type": "execute_result"
    }
   ],
   "source": [
    "sorted(z, key=lambda x: x[0], reverse=True)"
   ]
  },
  {
   "cell_type": "code",
   "execution_count": null,
   "metadata": {},
   "outputs": [],
   "source": []
  }
 ],
 "metadata": {
  "kernelspec": {
   "display_name": "Python 3",
   "language": "python",
   "name": "python3"
  },
  "language_info": {
   "codemirror_mode": {
    "name": "ipython",
    "version": 3
   },
   "file_extension": ".py",
   "mimetype": "text/x-python",
   "name": "python",
   "nbconvert_exporter": "python",
   "pygments_lexer": "ipython3",
   "version": "3.5.5"
  }
 },
 "nbformat": 4,
 "nbformat_minor": 2
}
