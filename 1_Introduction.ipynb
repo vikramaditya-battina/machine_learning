{
 "cells": [
  {
   "cell_type": "markdown",
   "metadata": {},
   "source": [
    "## Different Types of machine Learning Algorithms"
   ]
  },
  {
   "cell_type": "markdown",
   "metadata": {},
   "source": [
    "<ol>\n",
    " <li>unsupervised learning</li>\n",
    " <li>unsupervised learning</li>\n",
    " <li>Semi supervised learning</li>\n",
    " <li>Reinforcement learning</li>\n",
    "</ol>"
   ]
  },
  {
   "cell_type": "markdown",
   "metadata": {},
   "source": [
    "## Batch Learning vs Online Learning"
   ]
  },
  {
   "cell_type": "markdown",
   "metadata": {},
   "source": [
    "<h4>Batch Learning</h4>"
   ]
  },
  {
   "cell_type": "markdown",
   "metadata": {},
   "source": [
    "<ol>\n",
    "   <li>In batch learning, you will use entire data to build a model or update a model</li>\n",
    "   <li>Suppose in your system, you build a model, and your running it in production, then you got some new training points, in batch learning you need to use entire data, and new data points to build a new model</li>\n",
    "    <li>Generally it is taking entire data to build a cost function.</li>\n",
    "    <li>It is also called offline algorithm</li>\n",
    "</ol>"
   ]
  },
  {
   "cell_type": "markdown",
   "metadata": {},
   "source": [
    "<h4>Online Learning</h4>"
   ]
  },
  {
   "cell_type": "markdown",
   "metadata": {},
   "source": [
    "<ol>\n",
    "  <li>In online learning, you will use incremental data points to update a model instead of using entire data to build a model</li>\n",
    "  <li>You can use online learning for stock predicts, where you need to update your model frequently</li>\n",
    "</ol>\n"
   ]
  },
  {
   "cell_type": "markdown",
   "metadata": {},
   "source": [
    "## Main Challenges in Machine Learning"
   ]
  },
  {
   "cell_type": "markdown",
   "metadata": {},
   "source": [
    "<h3>Insufficient Quantity of Training Data</h3>"
   ]
  },
  {
   "cell_type": "markdown",
   "metadata": {},
   "source": [
    "<ol>\n",
    " <li>Most times amount of data is very important in machanine learning</li>\n",
    " <li>Most of the times, when you have huge data, even simple algorithm like perceptron, KNN works pretty well</li>\n",
    " <li>Its a tradeoff whether to spend money on acquiring large amounts of data, or building algorithm</li>\n",
    "</ol>"
   ]
  },
  {
   "cell_type": "markdown",
   "metadata": {},
   "source": [
    "<h3>Nonrepresentative Training Data</h3>"
   ]
  },
  {
   "cell_type": "markdown",
   "metadata": {},
   "source": [
    "You will sample from entire population, to understand about entire population, this is in terms of statistics,\n",
    "That sample is usually called training data in machine learning\n",
    "when we sample from population, there is high likely to get two kind of sampling erros.\n",
    "<h5> sampling Bias </h5>\n",
    "If your employing a mechanism to sample from population, if that mechanism includes only one section of population\n",
    "   then it is called sampling biash\n",
    "<h5> Sampling Noise </h5>\n",
    "The mechanism if your are having from error, then it is called sampling noise"
   ]
  },
  {
   "cell_type": "markdown",
   "metadata": {},
   "source": [
    "<h3>Poor Quality Data.</h3>\n",
    "1. Your data might have full of errors, outliers, and noise, so you need to spend time on cleaning data\n",
    "2. Most data scientist spend most of their time on cleaning data"
   ]
  },
  {
   "cell_type": "markdown",
   "metadata": {},
   "source": [
    "<h3>Irrelevant Features</h3>\n",
    "A critical part of the success of machine learning project is coming up with a good set of features to train on. This process is called Feature Engineering\n",
    "1. <b>Feature Selection:</b> selecting the most useful features to train on among existing features\n",
    "2. <b>Features extraction:</b> combining existing features to produce a moore useful one. Dimensionality reduction is one of that problem"
   ]
  },
  {
   "cell_type": "markdown",
   "metadata": {},
   "source": [
    "<h4> Sequence of Data processing Components is called a data <u>Pipelne</u>."
   ]
  },
  {
   "cell_type": "code",
   "execution_count": null,
   "metadata": {},
   "outputs": [],
   "source": []
  }
 ],
 "metadata": {
  "kernelspec": {
   "display_name": "Python 3",
   "language": "python",
   "name": "python3"
  },
  "language_info": {
   "codemirror_mode": {
    "name": "ipython",
    "version": 3
   },
   "file_extension": ".py",
   "mimetype": "text/x-python",
   "name": "python",
   "nbconvert_exporter": "python",
   "pygments_lexer": "ipython3",
   "version": "3.5.5"
  }
 },
 "nbformat": 4,
 "nbformat_minor": 2
}
